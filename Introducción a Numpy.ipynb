{
 "cells": [
  {
   "cell_type": "markdown",
   "id": "04571a9c",
   "metadata": {},
   "source": [
    "# Introducción a NumPy\n",
    "\n",
    "NumPy es una biblioteca de Python que se utiliza para realizar cálculos numéricos de forma eficiente. Proporciona soporte para arrays y matrices multidimensionales, así como una colección de funciones matemáticas para operar con estos objetos.\n",
    "\n",
    "## Contenidos\n",
    "- Creación de arrays\n",
    "- Operaciones básicas con arrays\n",
    "- Indexación y slicing\n",
    "- Funciones matemáticas\n",
    "- Manipulación de formas de arrays"
   ]
  },
  {
   "cell_type": "markdown",
   "id": "e4ea8681",
   "metadata": {},
   "source": [
    "# Importar Librería"
   ]
  },
  {
   "cell_type": "code",
   "execution_count": 2,
   "id": "985fe225",
   "metadata": {},
   "outputs": [
    {
     "name": "stdout",
     "output_type": "stream",
     "text": [
      "Requirement already satisfied: numpy in c:\\projects\\espol\\bootcamp_espol-python\\venv\\lib\\site-packages (2.1.1)\n"
     ]
    },
    {
     "name": "stderr",
     "output_type": "stream",
     "text": [
      "\n",
      "[notice] A new release of pip is available: 23.2.1 -> 24.2\n",
      "[notice] To update, run: python.exe -m pip install --upgrade pip\n"
     ]
    }
   ],
   "source": [
    "!pip install numpy"
   ]
  },
  {
   "cell_type": "code",
   "execution_count": null,
   "id": "662df19e-c84c-4281-86e4-f69b8339bd7e",
   "metadata": {},
   "outputs": [],
   "source": [
    "import numpy as np"
   ]
  },
  {
   "cell_type": "markdown",
   "id": "a5437f02",
   "metadata": {},
   "source": [
    "## Creación de Arrays\n",
    "\n",
    "### Crear un array desde una lista\n"
   ]
  },
  {
   "cell_type": "code",
   "execution_count": null,
   "id": "e0a20408",
   "metadata": {},
   "outputs": [],
   "source": [
    "lista_numeros"
   ]
  },
  {
   "cell_type": "markdown",
   "id": "a7c7c9de",
   "metadata": {},
   "source": [
    "### Crear arrays utilizando funciones de NumPy"
   ]
  },
  {
   "cell_type": "code",
   "execution_count": null,
   "id": "88299836",
   "metadata": {},
   "outputs": [],
   "source": []
  },
  {
   "cell_type": "markdown",
   "id": "97e3a46d",
   "metadata": {},
   "source": [
    "## Operaciones Básicas con Arrays\n",
    "\n",
    "### Operaciones element-wise"
   ]
  },
  {
   "cell_type": "code",
   "execution_count": null,
   "id": "dde02e0b",
   "metadata": {},
   "outputs": [],
   "source": []
  },
  {
   "cell_type": "markdown",
   "id": "98c643b3",
   "metadata": {},
   "source": [
    "### Operaciones con escalares"
   ]
  },
  {
   "cell_type": "code",
   "execution_count": null,
   "id": "398aa6cf",
   "metadata": {},
   "outputs": [],
   "source": []
  },
  {
   "cell_type": "markdown",
   "id": "c60bb253",
   "metadata": {},
   "source": [
    "## Indexación y Slicing\n",
    "\n",
    "### Indexación"
   ]
  },
  {
   "cell_type": "code",
   "execution_count": null,
   "id": "146c2dbb",
   "metadata": {},
   "outputs": [],
   "source": []
  },
  {
   "cell_type": "markdown",
   "id": "9a0813b8",
   "metadata": {},
   "source": [
    "### Slicing"
   ]
  },
  {
   "cell_type": "code",
   "execution_count": null,
   "id": "766cbdab",
   "metadata": {},
   "outputs": [],
   "source": []
  },
  {
   "cell_type": "markdown",
   "id": "b9b6a484",
   "metadata": {},
   "source": [
    "### Indexación y slicing en arrays 2D"
   ]
  },
  {
   "cell_type": "code",
   "execution_count": null,
   "id": "2eb4113a",
   "metadata": {},
   "outputs": [],
   "source": []
  },
  {
   "cell_type": "markdown",
   "id": "9d0bc994",
   "metadata": {},
   "source": [
    "## Funciones Matemáticas\n",
    "\n",
    "### Funciones universales"
   ]
  },
  {
   "cell_type": "code",
   "execution_count": null,
   "id": "7be3f2d9",
   "metadata": {},
   "outputs": [],
   "source": []
  },
  {
   "cell_type": "markdown",
   "id": "66c89623",
   "metadata": {},
   "source": [
    "### Funciones de agregación"
   ]
  },
  {
   "cell_type": "code",
   "execution_count": null,
   "id": "bee1a6b6",
   "metadata": {},
   "outputs": [],
   "source": []
  },
  {
   "cell_type": "markdown",
   "id": "2eca08fe",
   "metadata": {},
   "source": [
    "## Manipulación de Formas de Arrays\n",
    "\n",
    "### Redimensionar arrays"
   ]
  },
  {
   "cell_type": "code",
   "execution_count": null,
   "id": "b3a7984d",
   "metadata": {},
   "outputs": [],
   "source": []
  },
  {
   "cell_type": "markdown",
   "id": "3336dbb3",
   "metadata": {},
   "source": [
    "### Aplanar arrays"
   ]
  },
  {
   "cell_type": "code",
   "execution_count": null,
   "id": "31ec3cfe",
   "metadata": {},
   "outputs": [],
   "source": []
  },
  {
   "cell_type": "markdown",
   "id": "adea46ab",
   "metadata": {},
   "source": [
    "# Otras Operaciones #\n",
    "## Broadcasting ##"
   ]
  },
  {
   "cell_type": "code",
   "execution_count": null,
   "id": "07d98f9c",
   "metadata": {},
   "outputs": [],
   "source": []
  },
  {
   "cell_type": "markdown",
   "id": "c5d6afb2",
   "metadata": {},
   "source": [
    "## Funciones agregadas por fila y columna ##"
   ]
  },
  {
   "cell_type": "code",
   "execution_count": null,
   "id": "83e48a2f",
   "metadata": {},
   "outputs": [],
   "source": []
  },
  {
   "cell_type": "markdown",
   "id": "f15d4270",
   "metadata": {},
   "source": [
    "## Funciones aritméticas ##"
   ]
  },
  {
   "cell_type": "code",
   "execution_count": null,
   "id": "5338f153",
   "metadata": {},
   "outputs": [],
   "source": []
  },
  {
   "cell_type": "markdown",
   "id": "c3ef1afe",
   "metadata": {},
   "source": [
    "## Transpuesta ##"
   ]
  },
  {
   "cell_type": "code",
   "execution_count": null,
   "id": "486010a3",
   "metadata": {},
   "outputs": [],
   "source": []
  },
  {
   "cell_type": "markdown",
   "id": "e1af726b",
   "metadata": {},
   "source": [
    "## Valores aleatorios ##"
   ]
  },
  {
   "cell_type": "code",
   "execution_count": null,
   "id": "6f767c05",
   "metadata": {},
   "outputs": [],
   "source": []
  },
  {
   "cell_type": "markdown",
   "id": "5a87a4db",
   "metadata": {},
   "source": [
    "## Filtrados ##"
   ]
  },
  {
   "cell_type": "code",
   "execution_count": null,
   "id": "fbf7f650",
   "metadata": {},
   "outputs": [],
   "source": []
  }
 ],
 "metadata": {
  "kernelspec": {
   "display_name": "Python 3 (ipykernel)",
   "language": "python",
   "name": "python3"
  },
  "language_info": {
   "codemirror_mode": {
    "name": "ipython",
    "version": 3
   },
   "file_extension": ".py",
   "mimetype": "text/x-python",
   "name": "python",
   "nbconvert_exporter": "python",
   "pygments_lexer": "ipython3",
   "version": "3.11.5"
  }
 },
 "nbformat": 4,
 "nbformat_minor": 5
}
